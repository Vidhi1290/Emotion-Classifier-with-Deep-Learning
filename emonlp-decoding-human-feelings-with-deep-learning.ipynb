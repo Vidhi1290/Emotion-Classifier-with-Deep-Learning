{
 "cells": [
  {
   "cell_type": "markdown",
   "id": "bac9da0c",
   "metadata": {
    "papermill": {
     "duration": 0.006674,
     "end_time": "2023-11-16T08:04:09.853078",
     "exception": false,
     "start_time": "2023-11-16T08:04:09.846404",
     "status": "completed"
    },
    "tags": []
   },
   "source": [
    "# Emotion Classifier with Deep Learning 🚀\n",
    "\n",
    "## Index 📖\n",
    "1. [Introduction](#1-introduction)\n",
    "2. [Dataset Overview](#2-dataset-overview)\n",
    "3. [Data Preprocessing](#3-data-preprocessing)\n",
    "    1. [Loading the Dataset](#31-loading-the-dataset)\n",
    "    2. [Data Cleaning and Label Encoding](#32-data-cleaning-and-label-encoding)\n",
    "    3. [Train-Test Split](#33-train-test-split)\n",
    "4. [Tokenization and Padding](#4-tokenization-and-padding)\n",
    "5. [Model Architecture](#5-model-architecture)\n",
    "6. [Model Training](#6-model-training)\n",
    "7. [Model Evaluation](#7-model-evaluation)\n",
    "8. [Visualizations](#8-visualizations)\n",
    "    1. [Training History](#81-training-history)\n",
    "    2. [Confusion Matrix](#82-confusion-matrix)\n",
    "9. [Actual vs. Predicted Examples](#9-actual-vs-predicted-examples)\n",
    "10. [Conclusion](#10-conclusion)\n",
    "\n",
    "## 1. Introduction 🚀\n",
    "Welcome to the Emotion Classifier journey! Our mission? Unleash the power of NLP and deep learning to decode emotions from text.\n",
    "\n",
    "## 2. Dataset Overview 📊\n",
    "Our dataset, named \"Emotion_classify_Data.csv,\" is a treasure trove of emotions—anger, joy, and fear—spread across 5937 entries.\n",
    "\n",
    "## 3. Data Preprocessing 🧹\n",
    "### 3.1. Loading the Dataset\n",
    "Let’s open the treasure chest and explore the dataset structure.\n",
    "\n",
    "### 3.2. Data Cleaning and Label Encoding\n",
    "Transforming text into numbers—our magical preprocessing step.\n",
    "\n",
    "### 3.3. Train-Test Split\n",
    "Balance is key! We split the dataset into realms of training and testing.\n",
    "\n",
    "## 4. Tokenization and Padding 📝\n",
    "Turning text into sequences and ensuring a uniform length for our magical machine.\n",
    "\n",
    "## 5. Model Architecture 🏰\n",
    "Our emotion classification castle: an embedding layer, an LSTM tower, and a dense layer with softmax magic.\n",
    "\n",
    "## 6. Model Training 🚂\n",
    "Witness the model’s evolution over 10 enchanting epochs.\n",
    "\n",
    "## 7. Model Evaluation 🌟\n",
    "The grand reveal! Classification metrics paint a vivid picture of our model’s emotional insight.\n",
    "\n",
    "## 8. Visualizations 📈\n",
    "### 8.1. Training History\n",
    "A visual symphony of accuracy and validation accuracy dancing over epochs.\n",
    "\n",
    "### 8.2. Confusion Matrix\n",
    "A heatmap spectacle revealing the model’s performance in vivid colors.\n",
    "\n",
    "## 9. Actual vs. Predicted Examples 🎭\n",
    "The stage is set! Ten examples showcasing the model’s prowess in predicting emotions.\n",
    "\n",
    "## 10. Conclusion 🌟\n",
    "In this magical journey, we’ve crafted a robust solution for emotion classification. The model, a beacon of performance, awaits those delving into the enchanting world of NLP.\n",
    "\n"
   ]
  },
  {
   "cell_type": "code",
   "execution_count": 1,
   "id": "6da0c91c",
   "metadata": {
    "execution": {
     "iopub.execute_input": "2023-11-16T08:04:09.866608Z",
     "iopub.status.busy": "2023-11-16T08:04:09.866300Z",
     "iopub.status.idle": "2023-11-16T08:04:25.004382Z",
     "shell.execute_reply": "2023-11-16T08:04:25.003443Z"
    },
    "papermill": {
     "duration": 15.147499,
     "end_time": "2023-11-16T08:04:25.006786",
     "exception": false,
     "start_time": "2023-11-16T08:04:09.859287",
     "status": "completed"
    },
    "tags": []
   },
   "outputs": [
    {
     "name": "stderr",
     "output_type": "stream",
     "text": [
      "/opt/conda/lib/python3.10/site-packages/scipy/__init__.py:146: UserWarning: A NumPy version >=1.16.5 and <1.23.0 is required for this version of SciPy (detected version 1.24.3\n",
      "  warnings.warn(f\"A NumPy version >={np_minversion} and <{np_maxversion}\"\n"
     ]
    }
   ],
   "source": [
    "#Import necessary libraries:\n",
    "import pandas as pd\n",
    "import numpy as np\n",
    "import matplotlib.pyplot as plt\n",
    "import seaborn as sns\n",
    "\n",
    "from sklearn.model_selection import train_test_split\n",
    "from sklearn.preprocessing import LabelEncoder\n",
    "from tensorflow import keras\n",
    "from tensorflow.keras.preprocessing.text import Tokenizer\n",
    "from tensorflow.keras.preprocessing.sequence import pad_sequences\n",
    "from sklearn.metrics import classification_report, confusion_matrix"
   ]
  },
  {
   "cell_type": "code",
   "execution_count": 2,
   "id": "fa3e56b2",
   "metadata": {
    "execution": {
     "iopub.execute_input": "2023-11-16T08:04:25.020675Z",
     "iopub.status.busy": "2023-11-16T08:04:25.020140Z",
     "iopub.status.idle": "2023-11-16T08:04:25.057015Z",
     "shell.execute_reply": "2023-11-16T08:04:25.056108Z"
    },
    "papermill": {
     "duration": 0.046085,
     "end_time": "2023-11-16T08:04:25.059217",
     "exception": false,
     "start_time": "2023-11-16T08:04:25.013132",
     "status": "completed"
    },
    "tags": []
   },
   "outputs": [],
   "source": [
    "# Load the dataset\n",
    "data = pd.read_csv('/kaggle/input/emotion-dataset/Emotion_classify_Data.csv')"
   ]
  },
  {
   "cell_type": "code",
   "execution_count": 3,
   "id": "9bb6615c",
   "metadata": {
    "execution": {
     "iopub.execute_input": "2023-11-16T08:04:25.071892Z",
     "iopub.status.busy": "2023-11-16T08:04:25.071623Z",
     "iopub.status.idle": "2023-11-16T08:04:25.099060Z",
     "shell.execute_reply": "2023-11-16T08:04:25.097890Z"
    },
    "papermill": {
     "duration": 0.036306,
     "end_time": "2023-11-16T08:04:25.101160",
     "exception": false,
     "start_time": "2023-11-16T08:04:25.064854",
     "status": "completed"
    },
    "tags": []
   },
   "outputs": [
    {
     "name": "stdout",
     "output_type": "stream",
     "text": [
      "<class 'pandas.core.frame.DataFrame'>\n",
      "RangeIndex: 5937 entries, 0 to 5936\n",
      "Data columns (total 2 columns):\n",
      " #   Column   Non-Null Count  Dtype \n",
      "---  ------   --------------  ----- \n",
      " 0   Comment  5937 non-null   object\n",
      " 1   Emotion  5937 non-null   object\n",
      "dtypes: object(2)\n",
      "memory usage: 92.9+ KB\n"
     ]
    }
   ],
   "source": [
    "#Exploring the dataset:\n",
    "\n",
    "data.info()"
   ]
  },
  {
   "cell_type": "code",
   "execution_count": 4,
   "id": "3f910cf8",
   "metadata": {
    "execution": {
     "iopub.execute_input": "2023-11-16T08:04:25.114832Z",
     "iopub.status.busy": "2023-11-16T08:04:25.114543Z",
     "iopub.status.idle": "2023-11-16T08:04:25.127631Z",
     "shell.execute_reply": "2023-11-16T08:04:25.126718Z"
    },
    "papermill": {
     "duration": 0.022336,
     "end_time": "2023-11-16T08:04:25.129649",
     "exception": false,
     "start_time": "2023-11-16T08:04:25.107313",
     "status": "completed"
    },
    "tags": []
   },
   "outputs": [
    {
     "data": {
      "text/html": [
       "<div>\n",
       "<style scoped>\n",
       "    .dataframe tbody tr th:only-of-type {\n",
       "        vertical-align: middle;\n",
       "    }\n",
       "\n",
       "    .dataframe tbody tr th {\n",
       "        vertical-align: top;\n",
       "    }\n",
       "\n",
       "    .dataframe thead th {\n",
       "        text-align: right;\n",
       "    }\n",
       "</style>\n",
       "<table border=\"1\" class=\"dataframe\">\n",
       "  <thead>\n",
       "    <tr style=\"text-align: right;\">\n",
       "      <th></th>\n",
       "      <th>Comment</th>\n",
       "      <th>Emotion</th>\n",
       "    </tr>\n",
       "  </thead>\n",
       "  <tbody>\n",
       "    <tr>\n",
       "      <th>0</th>\n",
       "      <td>i seriously hate one subject to death but now ...</td>\n",
       "      <td>fear</td>\n",
       "    </tr>\n",
       "    <tr>\n",
       "      <th>1</th>\n",
       "      <td>im so full of life i feel appalled</td>\n",
       "      <td>anger</td>\n",
       "    </tr>\n",
       "    <tr>\n",
       "      <th>2</th>\n",
       "      <td>i sit here to write i start to dig out my feel...</td>\n",
       "      <td>fear</td>\n",
       "    </tr>\n",
       "    <tr>\n",
       "      <th>3</th>\n",
       "      <td>ive been really angry with r and i feel like a...</td>\n",
       "      <td>joy</td>\n",
       "    </tr>\n",
       "    <tr>\n",
       "      <th>4</th>\n",
       "      <td>i feel suspicious if there is no one outside l...</td>\n",
       "      <td>fear</td>\n",
       "    </tr>\n",
       "    <tr>\n",
       "      <th>5</th>\n",
       "      <td>i feel jealous becasue i wanted that kind of l...</td>\n",
       "      <td>anger</td>\n",
       "    </tr>\n",
       "    <tr>\n",
       "      <th>6</th>\n",
       "      <td>when a friend of mine keeps telling me morbid ...</td>\n",
       "      <td>anger</td>\n",
       "    </tr>\n",
       "  </tbody>\n",
       "</table>\n",
       "</div>"
      ],
      "text/plain": [
       "                                             Comment Emotion\n",
       "0  i seriously hate one subject to death but now ...    fear\n",
       "1                 im so full of life i feel appalled   anger\n",
       "2  i sit here to write i start to dig out my feel...    fear\n",
       "3  ive been really angry with r and i feel like a...     joy\n",
       "4  i feel suspicious if there is no one outside l...    fear\n",
       "5  i feel jealous becasue i wanted that kind of l...   anger\n",
       "6  when a friend of mine keeps telling me morbid ...   anger"
      ]
     },
     "execution_count": 4,
     "metadata": {},
     "output_type": "execute_result"
    }
   ],
   "source": [
    "data.head(7)"
   ]
  },
  {
   "cell_type": "code",
   "execution_count": 5,
   "id": "94116a20",
   "metadata": {
    "execution": {
     "iopub.execute_input": "2023-11-16T08:04:25.142947Z",
     "iopub.status.busy": "2023-11-16T08:04:25.142676Z",
     "iopub.status.idle": "2023-11-16T08:04:25.151348Z",
     "shell.execute_reply": "2023-11-16T08:04:25.150390Z"
    },
    "papermill": {
     "duration": 0.017514,
     "end_time": "2023-11-16T08:04:25.153222",
     "exception": false,
     "start_time": "2023-11-16T08:04:25.135708",
     "status": "completed"
    },
    "tags": []
   },
   "outputs": [
    {
     "data": {
      "text/html": [
       "<div>\n",
       "<style scoped>\n",
       "    .dataframe tbody tr th:only-of-type {\n",
       "        vertical-align: middle;\n",
       "    }\n",
       "\n",
       "    .dataframe tbody tr th {\n",
       "        vertical-align: top;\n",
       "    }\n",
       "\n",
       "    .dataframe thead th {\n",
       "        text-align: right;\n",
       "    }\n",
       "</style>\n",
       "<table border=\"1\" class=\"dataframe\">\n",
       "  <thead>\n",
       "    <tr style=\"text-align: right;\">\n",
       "      <th></th>\n",
       "      <th>Comment</th>\n",
       "      <th>Emotion</th>\n",
       "    </tr>\n",
       "  </thead>\n",
       "  <tbody>\n",
       "    <tr>\n",
       "      <th>5930</th>\n",
       "      <td>i think we often feel this way about planting ...</td>\n",
       "      <td>fear</td>\n",
       "    </tr>\n",
       "    <tr>\n",
       "      <th>5931</th>\n",
       "      <td>i have lost touch with the things that i feel ...</td>\n",
       "      <td>joy</td>\n",
       "    </tr>\n",
       "    <tr>\n",
       "      <th>5932</th>\n",
       "      <td>i begun to feel distressed for you</td>\n",
       "      <td>fear</td>\n",
       "    </tr>\n",
       "    <tr>\n",
       "      <th>5933</th>\n",
       "      <td>i left feeling annoyed and angry thinking that...</td>\n",
       "      <td>anger</td>\n",
       "    </tr>\n",
       "    <tr>\n",
       "      <th>5934</th>\n",
       "      <td>i were to ever get married i d have everything...</td>\n",
       "      <td>joy</td>\n",
       "    </tr>\n",
       "    <tr>\n",
       "      <th>5935</th>\n",
       "      <td>i feel reluctant in applying there because i w...</td>\n",
       "      <td>fear</td>\n",
       "    </tr>\n",
       "    <tr>\n",
       "      <th>5936</th>\n",
       "      <td>i just wanted to apologize to you because i fe...</td>\n",
       "      <td>anger</td>\n",
       "    </tr>\n",
       "  </tbody>\n",
       "</table>\n",
       "</div>"
      ],
      "text/plain": [
       "                                                Comment Emotion\n",
       "5930  i think we often feel this way about planting ...    fear\n",
       "5931  i have lost touch with the things that i feel ...     joy\n",
       "5932                 i begun to feel distressed for you    fear\n",
       "5933  i left feeling annoyed and angry thinking that...   anger\n",
       "5934  i were to ever get married i d have everything...     joy\n",
       "5935  i feel reluctant in applying there because i w...    fear\n",
       "5936  i just wanted to apologize to you because i fe...   anger"
      ]
     },
     "execution_count": 5,
     "metadata": {},
     "output_type": "execute_result"
    }
   ],
   "source": [
    "data.tail(7)"
   ]
  },
  {
   "cell_type": "code",
   "execution_count": 6,
   "id": "29a228a0",
   "metadata": {
    "execution": {
     "iopub.execute_input": "2023-11-16T08:04:25.167124Z",
     "iopub.status.busy": "2023-11-16T08:04:25.166842Z",
     "iopub.status.idle": "2023-11-16T08:04:25.174941Z",
     "shell.execute_reply": "2023-11-16T08:04:25.174103Z"
    },
    "papermill": {
     "duration": 0.017053,
     "end_time": "2023-11-16T08:04:25.176881",
     "exception": false,
     "start_time": "2023-11-16T08:04:25.159828",
     "status": "completed"
    },
    "tags": []
   },
   "outputs": [
    {
     "data": {
      "text/plain": [
       "Emotion\n",
       "anger    2000\n",
       "joy      2000\n",
       "fear     1937\n",
       "Name: count, dtype: int64"
      ]
     },
     "execution_count": 6,
     "metadata": {},
     "output_type": "execute_result"
    }
   ],
   "source": [
    "data['Emotion'].value_counts()"
   ]
  },
  {
   "cell_type": "code",
   "execution_count": 7,
   "id": "10bf4c92",
   "metadata": {
    "execution": {
     "iopub.execute_input": "2023-11-16T08:04:25.191170Z",
     "iopub.status.busy": "2023-11-16T08:04:25.190882Z",
     "iopub.status.idle": "2023-11-16T08:04:25.194908Z",
     "shell.execute_reply": "2023-11-16T08:04:25.194072Z"
    },
    "papermill": {
     "duration": 0.013415,
     "end_time": "2023-11-16T08:04:25.196784",
     "exception": false,
     "start_time": "2023-11-16T08:04:25.183369",
     "status": "completed"
    },
    "tags": []
   },
   "outputs": [],
   "source": [
    "#Data Preprocessing:\n",
    "X = data['Comment']\n",
    "y = data['Emotion']"
   ]
  },
  {
   "cell_type": "code",
   "execution_count": 8,
   "id": "e5e51c1d",
   "metadata": {
    "execution": {
     "iopub.execute_input": "2023-11-16T08:04:25.210795Z",
     "iopub.status.busy": "2023-11-16T08:04:25.210546Z",
     "iopub.status.idle": "2023-11-16T08:04:25.218375Z",
     "shell.execute_reply": "2023-11-16T08:04:25.217411Z"
    },
    "papermill": {
     "duration": 0.017313,
     "end_time": "2023-11-16T08:04:25.220586",
     "exception": false,
     "start_time": "2023-11-16T08:04:25.203273",
     "status": "completed"
    },
    "tags": []
   },
   "outputs": [
    {
     "name": "stderr",
     "output_type": "stream",
     "text": [
      "/opt/conda/lib/python3.10/site-packages/sklearn/utils/validation.py:605: FutureWarning: is_sparse is deprecated and will be removed in a future version. Check `isinstance(dtype, pd.SparseDtype)` instead.\n",
      "  if is_sparse(pd_dtype):\n",
      "/opt/conda/lib/python3.10/site-packages/sklearn/utils/validation.py:614: FutureWarning: is_sparse is deprecated and will be removed in a future version. Check `isinstance(dtype, pd.SparseDtype)` instead.\n",
      "  if is_sparse(pd_dtype) or not is_extension_array_dtype(pd_dtype):\n"
     ]
    }
   ],
   "source": [
    "#Converting labels to numerical format:\n",
    "le = LabelEncoder()\n",
    "y = le.fit_transform(y)"
   ]
  },
  {
   "cell_type": "code",
   "execution_count": 9,
   "id": "c1fd3221",
   "metadata": {
    "execution": {
     "iopub.execute_input": "2023-11-16T08:04:25.235079Z",
     "iopub.status.busy": "2023-11-16T08:04:25.234744Z",
     "iopub.status.idle": "2023-11-16T08:04:25.243186Z",
     "shell.execute_reply": "2023-11-16T08:04:25.242422Z"
    },
    "papermill": {
     "duration": 0.017871,
     "end_time": "2023-11-16T08:04:25.245190",
     "exception": false,
     "start_time": "2023-11-16T08:04:25.227319",
     "status": "completed"
    },
    "tags": []
   },
   "outputs": [],
   "source": [
    "#Split the dataset into training and testing sets:\n",
    "X_train, X_test, y_train, y_test = train_test_split(X, y, test_size=0.2, random_state=42)"
   ]
  },
  {
   "cell_type": "code",
   "execution_count": 10,
   "id": "25100cd0",
   "metadata": {
    "execution": {
     "iopub.execute_input": "2023-11-16T08:04:25.259521Z",
     "iopub.status.busy": "2023-11-16T08:04:25.259251Z",
     "iopub.status.idle": "2023-11-16T08:04:25.533926Z",
     "shell.execute_reply": "2023-11-16T08:04:25.533181Z"
    },
    "papermill": {
     "duration": 0.284597,
     "end_time": "2023-11-16T08:04:25.536200",
     "exception": false,
     "start_time": "2023-11-16T08:04:25.251603",
     "status": "completed"
    },
    "tags": []
   },
   "outputs": [],
   "source": [
    "#Tokensize and pad teh sequences:\n",
    "max_words = 10000\n",
    "max_len = 100\n",
    "tokenizer = Tokenizer(num_words=max_words, oov_token='<OOV>')\n",
    "tokenizer.fit_on_texts(X_train)\n",
    "X_train_seq = pad_sequences(tokenizer.texts_to_sequences(X_train), maxlen=max_len)\n",
    "X_text_seq = pad_sequences(tokenizer.texts_to_sequences(X_test), maxlen=max_len)"
   ]
  },
  {
   "cell_type": "code",
   "execution_count": 11,
   "id": "200b2bda",
   "metadata": {
    "execution": {
     "iopub.execute_input": "2023-11-16T08:04:25.550604Z",
     "iopub.status.busy": "2023-11-16T08:04:25.550319Z",
     "iopub.status.idle": "2023-11-16T08:04:30.127806Z",
     "shell.execute_reply": "2023-11-16T08:04:30.126817Z"
    },
    "papermill": {
     "duration": 4.590975,
     "end_time": "2023-11-16T08:04:30.133904",
     "exception": false,
     "start_time": "2023-11-16T08:04:25.542929",
     "status": "completed"
    },
    "tags": []
   },
   "outputs": [
    {
     "name": "stdout",
     "output_type": "stream",
     "text": [
      "Model: \"sequential\"\n",
      "_________________________________________________________________\n",
      " Layer (type)                Output Shape              Param #   \n",
      "=================================================================\n",
      " embedding (Embedding)       (None, 100, 16)           160000    \n",
      "                                                                 \n",
      " lstm (LSTM)                 (None, 64)                20736     \n",
      "                                                                 \n",
      " dense (Dense)               (None, 3)                 195       \n",
      "                                                                 \n",
      "=================================================================\n",
      "Total params: 180931 (706.76 KB)\n",
      "Trainable params: 180931 (706.76 KB)\n",
      "Non-trainable params: 0 (0.00 Byte)\n",
      "_________________________________________________________________\n"
     ]
    }
   ],
   "source": [
    "#Build the deep learning model:\n",
    "model = keras.Sequential([\n",
    "    keras.layers.Embedding(input_dim=max_words, output_dim=16, input_length=max_len),\n",
    "    keras.layers.LSTM(64, dropout=0.1, recurrent_dropout=0.1),\n",
    "    keras.layers.Dense(3, activation='softmax')\n",
    "])\n",
    "\n",
    "model.compile(optimizer='adam', loss='sparse_categorical_crossentropy', metrics=['accuracy'])\n",
    "model.summary()"
   ]
  },
  {
   "cell_type": "code",
   "execution_count": 12,
   "id": "518436a4",
   "metadata": {
    "execution": {
     "iopub.execute_input": "2023-11-16T08:04:30.150774Z",
     "iopub.status.busy": "2023-11-16T08:04:30.150472Z",
     "iopub.status.idle": "2023-11-16T08:13:54.964530Z",
     "shell.execute_reply": "2023-11-16T08:13:54.963488Z"
    },
    "papermill": {
     "duration": 564.825312,
     "end_time": "2023-11-16T08:13:54.967037",
     "exception": false,
     "start_time": "2023-11-16T08:04:30.141725",
     "status": "completed"
    },
    "tags": []
   },
   "outputs": [
    {
     "name": "stdout",
     "output_type": "stream",
     "text": [
      "Epoch 1/10\n",
      "149/149 [==============================] - 76s 463ms/step - loss: 1.0803 - accuracy: 0.4241 - val_loss: 1.0083 - val_accuracy: 0.6010\n",
      "Epoch 2/10\n",
      "149/149 [==============================] - 57s 382ms/step - loss: 0.6454 - accuracy: 0.7793 - val_loss: 0.4559 - val_accuracy: 0.8502\n",
      "Epoch 3/10\n",
      "149/149 [==============================] - 55s 368ms/step - loss: 0.3583 - accuracy: 0.8787 - val_loss: 0.5454 - val_accuracy: 0.7862\n",
      "Epoch 4/10\n",
      "149/149 [==============================] - 53s 355ms/step - loss: 0.1237 - accuracy: 0.9674 - val_loss: 0.3217 - val_accuracy: 0.8855\n",
      "Epoch 5/10\n",
      "149/149 [==============================] - 52s 346ms/step - loss: 0.0618 - accuracy: 0.9853 - val_loss: 0.2962 - val_accuracy: 0.9049\n",
      "Epoch 6/10\n",
      "149/149 [==============================] - 52s 349ms/step - loss: 0.0472 - accuracy: 0.9891 - val_loss: 0.2889 - val_accuracy: 0.9057\n",
      "Epoch 7/10\n",
      "149/149 [==============================] - 51s 344ms/step - loss: 0.0286 - accuracy: 0.9943 - val_loss: 0.2875 - val_accuracy: 0.9091\n",
      "Epoch 8/10\n",
      "149/149 [==============================] - 52s 349ms/step - loss: 0.0238 - accuracy: 0.9960 - val_loss: 0.2788 - val_accuracy: 0.9116\n",
      "Epoch 9/10\n",
      "149/149 [==============================] - 52s 350ms/step - loss: 0.0171 - accuracy: 0.9968 - val_loss: 0.3068 - val_accuracy: 0.9066\n",
      "Epoch 10/10\n",
      "149/149 [==============================] - 52s 348ms/step - loss: 0.0130 - accuracy: 0.9981 - val_loss: 0.3236 - val_accuracy: 0.9099\n"
     ]
    }
   ],
   "source": [
    "#Training the model:\n",
    "history = model.fit(X_train_seq, y_train, epochs=10, validation_data=(X_text_seq, y_test), batch_size=32)"
   ]
  },
  {
   "cell_type": "code",
   "execution_count": 13,
   "id": "4494363c",
   "metadata": {
    "execution": {
     "iopub.execute_input": "2023-11-16T08:13:55.225660Z",
     "iopub.status.busy": "2023-11-16T08:13:55.224546Z",
     "iopub.status.idle": "2023-11-16T08:13:55.544972Z",
     "shell.execute_reply": "2023-11-16T08:13:55.544047Z"
    },
    "papermill": {
     "duration": 0.453158,
     "end_time": "2023-11-16T08:13:55.547112",
     "exception": false,
     "start_time": "2023-11-16T08:13:55.093954",
     "status": "completed"
    },
    "tags": []
   },
   "outputs": [
    {
     "data": {
      "image/png": "[encoded data removed]",
      "text/plain": [
       "<Figure size 640x480 with 1 Axes>"
      ]
     },
     "metadata": {},
     "output_type": "display_data"
    }
   ],
   "source": [
    "#Visualize training history:\n",
    "plt.plot(history.history['accuracy'], label='accuracy')\n",
    "plt.plot(history.history['val_accuracy'], label='val_accuracy')\n",
    "plt.title('Model Accuracy')\n",
    "plt.xlabel('Epoch')\n",
    "plt.ylabel('Accuracy')\n",
    "plt.legend()\n",
    "plt.show()\n"
   ]
  },
  {
   "cell_type": "code",
   "execution_count": 14,
   "id": "f6740a3b",
   "metadata": {
    "execution": {
     "iopub.execute_input": "2023-11-16T08:13:55.808342Z",
     "iopub.status.busy": "2023-11-16T08:13:55.807665Z",
     "iopub.status.idle": "2023-11-16T08:13:57.102725Z",
     "shell.execute_reply": "2023-11-16T08:13:57.101660Z"
    },
    "papermill": {
     "duration": 1.428443,
     "end_time": "2023-11-16T08:13:57.104811",
     "exception": false,
     "start_time": "2023-11-16T08:13:55.676368",
     "status": "completed"
    },
    "tags": []
   },
   "outputs": [
    {
     "name": "stdout",
     "output_type": "stream",
     "text": [
      "38/38 [==============================] - 1s 25ms/step\n",
      "              precision    recall  f1-score   support\n",
      "\n",
      "           0       0.90      0.95      0.92       392\n",
      "           1       0.89      0.94      0.91       416\n",
      "           2       0.96      0.84      0.90       380\n",
      "\n",
      "    accuracy                           0.91      1188\n",
      "   macro avg       0.91      0.91      0.91      1188\n",
      "weighted avg       0.91      0.91      0.91      1188\n",
      "\n"
     ]
    }
   ],
   "source": [
    "# Evaluate the model\n",
    "y_pred_prob = model.predict(X_text_seq)\n",
    "y_pred = np.argmax(y_pred_prob, axis=1)\n",
    "\n",
    "print(classification_report(y_test, y_pred))\n"
   ]
  },
  {
   "cell_type": "code",
   "execution_count": 15,
   "id": "5fcd5485",
   "metadata": {
    "execution": {
     "iopub.execute_input": "2023-11-16T08:13:57.368609Z",
     "iopub.status.busy": "2023-11-16T08:13:57.367923Z",
     "iopub.status.idle": "2023-11-16T08:13:57.668838Z",
     "shell.execute_reply": "2023-11-16T08:13:57.667950Z"
    },
    "papermill": {
     "duration": 0.435175,
     "end_time": "2023-11-16T08:13:57.670894",
     "exception": false,
     "start_time": "2023-11-16T08:13:57.235719",
     "status": "completed"
    },
    "tags": []
   },
   "outputs": [
    {
     "data": {
      "image/png": "[encoded data removed]",
      "text/plain": [
       "<Figure size 640x480 with 2 Axes>"
      ]
     },
     "metadata": {},
     "output_type": "display_data"
    }
   ],
   "source": [
    "# Confusion Matrix\n",
    "conf_mat = confusion_matrix(y_test, y_pred)\n",
    "sns.heatmap(conf_mat, annot=True, fmt='d', cmap='Blues', xticklabels=le.classes_, yticklabels=le.classes_)\n",
    "plt.title('Confusion Matrix')\n",
    "plt.xlabel('Predicted')\n",
    "plt.ylabel('True')\n",
    "plt.show()"
   ]
  },
  {
   "cell_type": "code",
   "execution_count": 16,
   "id": "2c650a8b",
   "metadata": {
    "execution": {
     "iopub.execute_input": "2023-11-16T08:13:57.934964Z",
     "iopub.status.busy": "2023-11-16T08:13:57.934629Z",
     "iopub.status.idle": "2023-11-16T08:13:57.940966Z",
     "shell.execute_reply": "2023-11-16T08:13:57.940194Z"
    },
    "papermill": {
     "duration": 0.140375,
     "end_time": "2023-11-16T08:13:57.943237",
     "exception": false,
     "start_time": "2023-11-16T08:13:57.802862",
     "status": "completed"
    },
    "tags": []
   },
   "outputs": [
    {
     "name": "stdout",
     "output_type": "stream",
     "text": [
      "Example 1:\n",
      "Actual Emotion: anger\n",
      "Predicted Emotion: anger\n",
      "Text: i do give up at times when i feel there s no point in a friendship when one cant be bothered\n",
      "==================================================\n",
      "\n",
      "Example 2:\n",
      "Actual Emotion: joy\n",
      "Predicted Emotion: joy\n",
      "Text: im a firm believer that nothing makes a woman feel much more terrific than a great trip to the salon to lift her spirits a bit\n",
      "==================================================\n",
      "\n",
      "Example 3:\n",
      "Actual Emotion: fear\n",
      "Predicted Emotion: fear\n",
      "Text: i was feeling very vulnerable and down no one really close to me has ever died before i either hadnt known them very well or was too young to remember\n",
      "==================================================\n",
      "\n",
      "Example 4:\n",
      "Actual Emotion: anger\n",
      "Predicted Emotion: anger\n",
      "Text: i closed her eyes in anger and feeling disgusted by this touch\n",
      "==================================================\n",
      "\n",
      "Example 5:\n",
      "Actual Emotion: anger\n",
      "Predicted Emotion: anger\n",
      "Text: i feel like being distracted\n",
      "==================================================\n",
      "\n",
      "Example 6:\n",
      "Actual Emotion: fear\n",
      "Predicted Emotion: fear\n",
      "Text: i just feel shy because i was just a sharia stream student who is now still struggling with european union policy and decision making thesis while those uncles there discussing trillion dollars projects in government lead companies glc\n",
      "==================================================\n",
      "\n",
      "Example 7:\n",
      "Actual Emotion: fear\n",
      "Predicted Emotion: fear\n",
      "Text: i want to talk to you about but with the limited time we have on the phone and with our current arrangment i feel hesitant to bring it up\n",
      "==================================================\n",
      "\n",
      "Example 8:\n",
      "Actual Emotion: joy\n",
      "Predicted Emotion: joy\n",
      "Text: im not feeling exactly thrilled with standing in front of a mirror if you know what i mean\n",
      "==================================================\n",
      "\n",
      "Example 9:\n",
      "Actual Emotion: fear\n",
      "Predicted Emotion: fear\n",
      "Text: i feel most apprehensive about each week probably because it is the one most likely to unavoidably show me my shortcomings as a runner\n",
      "==================================================\n",
      "\n",
      "Example 10:\n",
      "Actual Emotion: anger\n",
      "Predicted Emotion: anger\n",
      "Text: i feel i was appalled to see a misused apostrophe on the bbc and an incorrect spelling on itv last week\n",
      "==================================================\n",
      "\n"
     ]
    }
   ],
   "source": [
    "# Display actual vs predicted emotions\n",
    "for i in range(10):  # Display the first 10 examples\n",
    "    actual_emotion = le.classes_[y_test[i]]\n",
    "    predicted_emotion = le.classes_[y_pred[i]]\n",
    "    text = X_test.iloc[i]\n",
    "    \n",
    "    print(f\"Example {i+1}:\\n\"\n",
    "          f\"Actual Emotion: {actual_emotion}\\n\"\n",
    "          f\"Predicted Emotion: {predicted_emotion}\\n\"\n",
    "          f\"Text: {text}\\n\"\n",
    "          f\"{'='*50}\\n\")\n"
   ]
  },
  {
   "cell_type": "code",
   "execution_count": 17,
   "id": "b01259ce",
   "metadata": {
    "execution": {
     "iopub.execute_input": "2023-11-16T08:13:58.204150Z",
     "iopub.status.busy": "2023-11-16T08:13:58.203811Z",
     "iopub.status.idle": "2023-11-16T08:13:58.241262Z",
     "shell.execute_reply": "2023-11-16T08:13:58.240339Z"
    },
    "papermill": {
     "duration": 0.169046,
     "end_time": "2023-11-16T08:13:58.243223",
     "exception": false,
     "start_time": "2023-11-16T08:13:58.074177",
     "status": "completed"
    },
    "tags": []
   },
   "outputs": [
    {
     "name": "stderr",
     "output_type": "stream",
     "text": [
      "/opt/conda/lib/python3.10/site-packages/keras/src/engine/training.py:3000: UserWarning: You are saving your model as an HDF5 file via `model.save()`. This file format is considered legacy. We recommend using instead the native Keras format, e.g. `model.save('my_model.keras')`.\n",
      "  saving_api.save_model(\n"
     ]
    }
   ],
   "source": [
    "# Save the model\n",
    "model.save('emotion_classification_model.h5')"
   ]
  },
  {
   "cell_type": "code",
   "execution_count": null,
   "id": "9c8d5ae8",
   "metadata": {
    "papermill": {
     "duration": 0.130413,
     "end_time": "2023-11-16T08:13:58.505187",
     "exception": false,
     "start_time": "2023-11-16T08:13:58.374774",
     "status": "completed"
    },
    "tags": []
   },
   "outputs": [],
   "source": []
  }
 ],
 "metadata": {
  "kaggle": {
   "accelerator": "nvidiaTeslaT4",
   "dataSources": [
    {
     "datasetId": 3851864,
     "sourceId": 6676302,
     "sourceType": "datasetVersion"
    }
   ],
   "dockerImageVersionId": 30580,
   "isGpuEnabled": true,
   "isInternetEnabled": true,
   "language": "python",
   "sourceType": "notebook"
  },
  "kernelspec": {
   "display_name": "Python 3",
   "language": "python",
   "name": "python3"
  },
  "language_info": {
   "codemirror_mode": {
    "name": "ipython",
    "version": 3
   },
   "file_extension": ".py",
   "mimetype": "text/x-python",
   "name": "python",
   "nbconvert_exporter": "python",
   "pygments_lexer": "ipython3",
   "version": "3.10.12"
  },
  "papermill": {
   "default_parameters": {},
   "duration": 595.988224,
   "end_time": "2023-11-16T08:14:02.073778",
   "environment_variables": {},
   "exception": null,
   "input_path": "__notebook__.ipynb",
   "output_path": "__notebook__.ipynb",
   "parameters": {},
   "start_time": "2023-11-16T08:04:06.085554",
   "version": "2.4.0"
  }
 },
 "nbformat": 4,
 "nbformat_minor": 5
}
